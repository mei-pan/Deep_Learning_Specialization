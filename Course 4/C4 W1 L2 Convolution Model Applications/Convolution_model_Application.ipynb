{
 "cells": [
  {
   "cell_type": "markdown",
   "metadata": {},
   "source": [
    "# Convolutional Neural Networks: Application\n",
    "\n",
    "Welcome to Course 4's second assignment! In this notebook, you will:\n",
    "\n",
    "- Create a mood classifer using the TF Keras Sequential API\n",
    "- Build a ConvNet to identify sign language digits using the TF Keras Functional API\n",
    "\n",
    "**After this assignment you will be able to:**\n",
    "\n",
    "- Build and train a ConvNet in TensorFlow for a __binary__ classification problem\n",
    "- Build and train a ConvNet in TensorFlow for a __multiclass__ classification problem\n",
    "- Explain different use cases for the Sequential and Functional APIs\n",
    "\n",
    "To complete this assignment, you should already be familiar with TensorFlow. If you are not, please refer back to the **TensorFlow Tutorial** of the third week of Course 2 (\"**Improving deep neural networks**\").\n",
    "\n",
    "## Important Note on Submission to the AutoGrader\n",
    "\n",
    "Before submitting your assignment to the AutoGrader, please make sure you are not doing the following:\n",
    "\n",
    "1. You have not added any _extra_ `print` statement(s) in the assignment.\n",
    "2. You have not added any _extra_ code cell(s) in the assignment.\n",
    "3. You have not changed any of the function parameters.\n",
    "4. You are not using any global variables inside your graded exercises. Unless specifically instructed to do so, please refrain from it and use the local variables instead.\n",
    "5. You are not changing the assignment code where it is not required, like creating _extra_ variables.\n",
    "\n",
    "If you do any of the following, you will get something like, `Grader Error: Grader feedback not found` (or similarly unexpected) error upon submitting your assignment. Before asking for help/debugging the errors in your assignment, check for these first. If this is the case, and you don't remember the changes you have made, you can get a fresh copy of the assignment by following these [instructions](https://www.coursera.org/learn/convolutional-neural-networks/supplement/DS4yP/h-ow-to-refresh-your-workspace)."
   ]
  },
  {
   "cell_type": "markdown",
   "metadata": {},
   "source": [
    "## Table of Contents\n",
    "\n",
    "- [1 - Packages](#1)\n",
    "    - [1.1 - Load the Data and Split the Data into Train/Test Sets](#1-1)\n",
    "- [2 - Layers in TF Keras](#2)\n",
    "- [3 - The Sequential API](#3)\n",
    "    - [3.1 - Create the Sequential Model](#3-1)\n",
    "        - [Exercise 1 - happyModel](#ex-1)\n",
    "    - [3.2 - Train and Evaluate the Model](#3-2)\n",
    "- [4 - The Functional API](#4)\n",
    "    - [4.1 - Load the SIGNS Dataset](#4-1)\n",
    "    - [4.2 - Split the Data into Train/Test Sets](#4-2)\n",
    "    - [4.3 - Forward Propagation](#4-3)\n",
    "        - [Exercise 2 - convolutional_model](#ex-2)\n",
    "    - [4.4 - Train the Model](#4-4)\n",
    "- [5 - History Object](#5)\n",
    "- [6 - Bibliography](#6)"
   ]
  },
  {
   "cell_type": "markdown",
   "metadata": {},
   "source": [
    "<a name='1'></a>\n",
    "## 1 - Packages\n",
    "\n",
    "As usual, begin by loading in the packages."
   ]
  },
  {
   "cell_type": "code",
   "execution_count": null,
   "metadata": {
    "deletable": false,
    "editable": false
   },
   "outputs": [],
   "source": [
    "### v1.1"
   ]
  },
  {
   "cell_type": "code",
   "execution_count": 1,
   "metadata": {},
   "outputs": [],
   "source": [
    "import math\n",
    "import numpy as np\n",
    "import h5py\n",
    "import matplotlib.pyplot as plt\n",
    "from matplotlib.pyplot import imread\n",
    "import scipy\n",
    "from PIL import Image\n",
    "import pandas as pd\n",
    "import tensorflow as tf\n",
    "import tensorflow.keras.layers as tfl\n",
    "from tensorflow.python.framework import ops\n",
    "from cnn_utils import *\n",
    "from test_utils import summary, comparator\n",
    "\n",
    "%matplotlib inline\n",
    "np.random.seed(1)"
   ]
  },
  {
   "cell_type": "markdown",
   "metadata": {},
   "source": [
    "<a name='1-1'></a>\n",
    "### 1.1 - Load the Data and Split the Data into Train/Test Sets\n",
    "\n",
    "You'll be using the Happy House dataset for this part of the assignment, which contains images of peoples' faces. Your task will be to build a ConvNet that determines whether the people in the images are smiling or not -- because they only get to enter the house if they're smiling!  "
   ]
  },
  {
   "cell_type": "code",
   "execution_count": 2,
   "metadata": {},
   "outputs": [
    {
     "name": "stdout",
     "output_type": "stream",
     "text": [
      "number of training examples = 600\n",
      "number of test examples = 150\n",
      "X_train shape: (600, 64, 64, 3)\n",
      "Y_train shape: (600, 1)\n",
      "X_test shape: (150, 64, 64, 3)\n",
      "Y_test shape: (150, 1)\n"
     ]
    }
   ],
   "source": [
    "X_train_orig, Y_train_orig, X_test_orig, Y_test_orig, classes = load_happy_dataset()\n",
    "\n",
    "# Normalize image vectors\n",
    "X_train = X_train_orig/255.\n",
    "X_test = X_test_orig/255.\n",
    "\n",
    "# Reshape\n",
    "Y_train = Y_train_orig.T\n",
    "Y_test = Y_test_orig.T\n",
    "\n",
    "print (\"number of training examples = \" + str(X_train.shape[0]))\n",
    "print (\"number of test examples = \" + str(X_test.shape[0]))\n",
    "print (\"X_train shape: \" + str(X_train.shape))\n",
    "print (\"Y_train shape: \" + str(Y_train.shape))\n",
    "print (\"X_test shape: \" + str(X_test.shape))\n",
    "print (\"Y_test shape: \" + str(Y_test.shape))"
   ]
  },
  {
   "cell_type": "markdown",
   "metadata": {},
   "source": [
    "You can display the images contained in the dataset. Images are **64x64** pixels in RGB format (3 channels)."
   ]
  },
  {
   "cell_type": "code",
   "execution_count": 5,
   "metadata": {},
   "outputs": [
    {
     "data": {
      "image/png": "[encoded data removed]",
      "text/plain": [
       "<Figure size 432x288 with 1 Axes>"
      ]
     },
     "metadata": {
      "needs_background": "light"
     },
     "output_type": "display_data"
    }
   ],
   "source": [
    "index = 0\n",
    "plt.imshow(X_train_orig[index]) #display sample training image\n",
    "plt.show()"
   ]
  },
  {
   "cell_type": "markdown",
   "metadata": {},
   "source": [
    "<a name='2'></a>\n",
    "## 2 - Layers in TF Keras \n",
    "\n",
    "In the previous assignment, you created layers manually in numpy. In TF Keras, you don't have to write code directly to create layers. Rather, TF Keras has pre-defined layers you can use. \n",
    "\n",
    "When you create a layer in TF Keras, you are creating a function that takes some input and transforms it into an output you can reuse later. Nice and easy! "
   ]
  },
  {
   "cell_type": "markdown",
   "metadata": {},
   "source": [
    "<a name='3'></a>\n",
    "## 3 - The Sequential API\n",
    "\n",
    "In the previous assignment, you built helper functions using `numpy` to understand the mechanics behind convolutional neural networks. Most practical applications of deep learning today are built using programming frameworks, which have many built-in functions you can simply call. Keras is a high-level abstraction built on top of TensorFlow, which allows for even more simplified and optimized model creation and training. \n",
    "\n",
    "For the first part of this assignment, you'll create a model using TF Keras' Sequential API, which allows you to build layer by layer, and is ideal for building models where each layer has **exactly one** input tensor and **one** output tensor. \n",
    "\n",
    "As you'll see, using the Sequential API is simple and straightforward, but is only appropriate for simpler, more straightforward tasks. Later in this notebook you'll spend some time building with a more flexible, powerful alternative: the Functional API. \n",
    " "
   ]
  },
  {
   "cell_type": "markdown",
   "metadata": {},
   "source": [
    "<a name='3-1'></a>\n",
    "### 3.1 - Create the Sequential Model\n",
    "\n",
    "As mentioned earlier, the TensorFlow Keras Sequential API can be used to build simple models with layer operations that proceed in a sequential order. \n",
    "\n",
    "You can also add layers incrementally to a Sequential model with the `.add()` method, or remove them using the `.pop()` method, much like you would in a regular Python list.\n",
    "\n",
    "Actually, you can think of a Sequential model as behaving like a list of layers. Like Python lists, Sequential layers are ordered, and the order in which they are specified matters.  If your model is non-linear or contains layers with multiple inputs or outputs, a Sequential model wouldn't be the right choice!\n",
    "\n",
    "For any layer construction in Keras, you'll need to specify the input shape in advance. This is because in Keras, the shape of the weights is based on the shape of the inputs. The weights are only created when the model first sees some input data. Sequential models can be created by passing a list of layers to the Sequential constructor, like you will do in the next assignment.\n",
    "\n",
    "<a name='ex-1'></a>\n",
    "### Exercise 1 - happyModel\n",
    "\n",
    "Implement the `happyModel` function below to build the following model: `ZEROPAD2D -> CONV2D -> BATCHNORM -> RELU -> MAXPOOL -> FLATTEN -> DENSE`. Take help from [tf.keras.layers](https://www.tensorflow.org/api_docs/python/tf/keras/layers) \n",
    "\n",
    "Also, plug in the following parameters for all the steps:\n",
    "\n",
    " - [ZeroPadding2D](https://www.tensorflow.org/api_docs/python/tf/keras/layers/ZeroPadding2D): padding 3, input shape 64 x 64 x 3\n",
    " - [Conv2D](https://www.tensorflow.org/api_docs/python/tf/keras/layers/Conv2D): Use 32 7x7 filters, stride 1\n",
    " - [BatchNormalization](https://www.tensorflow.org/api_docs/python/tf/keras/layers/BatchNormalization): for axis 3\n",
    " - [ReLU](https://www.tensorflow.org/api_docs/python/tf/keras/layers/ReLU)\n",
    " - [MaxPool2D](https://www.tensorflow.org/api_docs/python/tf/keras/layers/MaxPool2D): Using default parameters\n",
    " - [Flatten](https://www.tensorflow.org/api_docs/python/tf/keras/layers/Flatten) the previous output.\n",
    " - Fully-connected ([Dense](https://www.tensorflow.org/api_docs/python/tf/keras/layers/Dense)) layer: Apply a fully connected layer with 1 neuron and a sigmoid activation. \n",
    " \n",
    " \n",
    " **Hint:**\n",
    " \n",
    " Use **tfl** as shorthand for **tensorflow.keras.layers**"
   ]
  },
  {
   "cell_type": "code",
   "execution_count": 22,
   "metadata": {
    "deletable": false,
    "nbgrader": {
     "cell_type": "code",
     "checksum": "95d28b191f257bdd5b70c7b8952559d5",
     "grade": false,
     "grade_id": "cell-0e56d3fc28b69aec",
     "locked": false,
     "schema_version": 3,
     "solution": true,
     "task": false
    }
   },
   "outputs": [],
   "source": [
    "# GRADED FUNCTION: happyModel\n",
    "\n",
    "def happyModel():\n",
    "    \"\"\"\n",
    "    Implements the forward propagation for the binary classification model:\n",
    "    ZEROPAD2D -> CONV2D -> BATCHNORM -> RELU -> MAXPOOL -> FLATTEN -> DENSE\n",
    "    \n",
    "    Note that for simplicity and grading purposes, you'll hard-code all the values\n",
    "    such as the stride and kernel (filter) sizes. \n",
    "    Normally, functions should take these values as function parameters.\n",
    "    \n",
    "    Arguments:\n",
    "    None\n",
    "\n",
    "    Returns:\n",
    "    model -- TF Keras model (object containing the information for the entire training process) \n",
    "    \"\"\"\n",
    "    model = tf.keras.Sequential([\n",
    "            ## ZeroPadding2D with padding 3, input shape of 64 x 64 x 3\n",
    "            \n",
    "            ## Conv2D with 32 7x7 filters and stride of 1\n",
    "            \n",
    "            ## BatchNormalization for axis 3\n",
    "            \n",
    "            ## ReLU\n",
    "            \n",
    "            ## Max Pooling 2D with default parameters\n",
    "            \n",
    "            ## Flatten layer\n",
    "            \n",
    "            ## Dense layer with 1 unit for output & 'sigmoid' activation\n",
    "            \n",
    "            # YOUR CODE STARTS HERE\n",
    "            tf.keras.layers.ZeroPadding2D(padding=3, input_shape = (64,64,3)),\n",
    "            tf.keras.layers.Conv2D(filters=32,kernel_size=7, strides=1),\n",
    "            tf.keras.layers.BatchNormalization(axis = 3),\n",
    "            tf.keras.layers.ReLU(), \n",
    "            tf.keras.layers.MaxPool2D(),\n",
    "            tf.keras.layers.Flatten(),\n",
    "            tf.keras.layers.Dense(1, activation='sigmoid')\n",
    "                        \n",
    "            # YOUR CODE ENDS HERE\n",
    "        ])\n",
    "    \n",
    "    return model"
   ]
  },
  {
   "cell_type": "code",
   "execution_count": 23,
   "metadata": {
    "deletable": false,
    "editable": false,
    "nbgrader": {
     "cell_type": "code",
     "checksum": "8d3575c950e2e78149be2d05d671c80d",
     "grade": true,
     "grade_id": "cell-e3e1046e5c33d775",
     "locked": true,
     "points": 10,
     "schema_version": 3,
     "solution": false,
     "task": false
    }
   },
   "outputs": [
    {
     "name": "stdout",
     "output_type": "stream",
     "text": [
      "['ZeroPadding2D', (None, 70, 70, 3), 0, ((3, 3), (3, 3))]\n",
      "['Conv2D', (None, 64, 64, 32), 4736, 'valid', 'linear', 'GlorotUniform']\n",
      "['BatchNormalization', (None, 64, 64, 32), 128]\n",
      "['ReLU', (None, 64, 64, 32), 0]\n",
      "['MaxPooling2D', (None, 32, 32, 32), 0, (2, 2), (2, 2), 'valid']\n",
      "['Flatten', (None, 32768), 0]\n",
      "['Dense', (None, 1), 32769, 'sigmoid']\n",
      "\u001b[32mAll tests passed!\u001b[0m\n"
     ]
    }
   ],
   "source": [
    "happy_model = happyModel()\n",
    "# Print a summary for each layer\n",
    "for layer in summary(happy_model):\n",
    "    print(layer)\n",
    "    \n",
    "output = [['ZeroPadding2D', (None, 70, 70, 3), 0, ((3, 3), (3, 3))],\n",
    "            ['Conv2D', (None, 64, 64, 32), 4736, 'valid', 'linear', 'GlorotUniform'],\n",
    "            ['BatchNormalization', (None, 64, 64, 32), 128],\n",
    "            ['ReLU', (None, 64, 64, 32), 0],\n",
    "            ['MaxPooling2D', (None, 32, 32, 32), 0, (2, 2), (2, 2), 'valid'],\n",
    "            ['Flatten', (None, 32768), 0],\n",
    "            ['Dense', (None, 1), 32769, 'sigmoid']]\n",
    "    \n",
    "comparator(summary(happy_model), output)"
   ]
  },
  {
   "cell_type": "markdown",
   "metadata": {},
   "source": [
    "#### Expected Output:\n",
    "\n",
    "```\n",
    "['ZeroPadding2D', (None, 70, 70, 3), 0, ((3, 3), (3, 3))]\n",
    "['Conv2D', (None, 64, 64, 32), 4736, 'valid', 'linear', 'GlorotUniform']\n",
    "['BatchNormalization', (None, 64, 64, 32), 128]\n",
    "['ReLU', (None, 64, 64, 32), 0]\n",
    "['MaxPooling2D', (None, 32, 32, 32), 0, (2, 2), (2, 2), 'valid']\n",
    "['Flatten', (None, 32768), 0]\n",
    "['Dense', (None, 1), 32769, 'sigmoid']\n",
    "All tests passed!\n",
    "```"
   ]
  },
  {
   "cell_type": "markdown",
   "metadata": {},
   "source": [
    "Now that your model is created, you can compile it for training with an optimizer and loss of your choice. When the string `accuracy` is specified as a metric, the type of accuracy used will be automatically converted based on the loss function used. This is one of the many optimizations built into TensorFlow that make your life easier! If you'd like to read more on how the compiler operates, check the docs [here](https://www.tensorflow.org/api_docs/python/tf/keras/Model#compile)."
   ]
  },
  {
   "cell_type": "code",
   "execution_count": 24,
   "metadata": {},
   "outputs": [],
   "source": [
    "happy_model.compile(optimizer='adam',\n",
    "                   loss='binary_crossentropy',\n",
    "                   metrics=['accuracy'])"
   ]
  },
  {
   "cell_type": "markdown",
   "metadata": {},
   "source": [
    "It's time to check your model's parameters with the `.summary()` method. This will display the types of layers you have, the shape of the outputs, and how many parameters are in each layer. "
   ]
  },
  {
   "cell_type": "code",
   "execution_count": 25,
   "metadata": {},
   "outputs": [
    {
     "name": "stdout",
     "output_type": "stream",
     "text": [
      "Model: \"sequential_2\"\n",
      "_________________________________________________________________\n",
      "Layer (type)                 Output Shape              Param #   \n",
      "=================================================================\n",
      "zero_padding2d_6 (ZeroPaddin (None, 70, 70, 3)         0         \n",
      "_________________________________________________________________\n",
      "conv2d_4 (Conv2D)            (None, 64, 64, 32)        4736      \n",
      "_________________________________________________________________\n",
      "batch_normalization_4 (Batch (None, 64, 64, 32)        128       \n",
      "_________________________________________________________________\n",
      "re_lu_4 (ReLU)               (None, 64, 64, 32)        0         \n",
      "_________________________________________________________________\n",
      "max_pooling2d_4 (MaxPooling2 (None, 32, 32, 32)        0         \n",
      "_________________________________________________________________\n",
      "flatten_3 (Flatten)          (None, 32768)             0         \n",
      "_________________________________________________________________\n",
      "dense_2 (Dense)              (None, 1)                 32769     \n",
      "=================================================================\n",
      "Total params: 37,633\n",
      "Trainable params: 37,569\n",
      "Non-trainable params: 64\n",
      "_________________________________________________________________\n"
     ]
    }
   ],
   "source": [
    "happy_model.summary()"
   ]
  },
  {
   "cell_type": "markdown",
   "metadata": {},
   "source": [
    "<a name='3-2'></a>\n",
    "### 3.2 - Train and Evaluate the Model\n",
    "\n",
    "After creating the model, compiling it with your choice of optimizer and loss function, and doing a sanity check on its contents, you are now ready to build! \n",
    "\n",
    "Simply call `.fit()` to train. That's it! No need for mini-batching, saving, or complex backpropagation computations. That's all been done for you, as you're using a TensorFlow dataset with the batches specified already. You do have the option to specify epoch number or minibatch size if you like (for example, in the case of an un-batched dataset)."
   ]
  },
  {
   "cell_type": "code",
   "execution_count": 26,
   "metadata": {},
   "outputs": [
    {
     "name": "stdout",
     "output_type": "stream",
     "text": [
      "Epoch 1/10\n",
      "38/38 [==============================] - 4s 103ms/step - loss: 1.4815 - accuracy: 0.6733\n",
      "Epoch 2/10\n",
      "38/38 [==============================] - 4s 97ms/step - loss: 0.3084 - accuracy: 0.8867\n",
      "Epoch 3/10\n",
      "38/38 [==============================] - 4s 95ms/step - loss: 0.1929 - accuracy: 0.9300\n",
      "Epoch 4/10\n",
      "38/38 [==============================] - 4s 98ms/step - loss: 0.1058 - accuracy: 0.9583\n",
      "Epoch 5/10\n",
      "38/38 [==============================] - 4s 97ms/step - loss: 0.1158 - accuracy: 0.9617\n",
      "Epoch 6/10\n",
      "38/38 [==============================] - 4s 98ms/step - loss: 0.0842 - accuracy: 0.9800\n",
      "Epoch 7/10\n",
      "38/38 [==============================] - 4s 97ms/step - loss: 0.0663 - accuracy: 0.9817\n",
      "Epoch 8/10\n",
      "38/38 [==============================] - 4s 97ms/step - loss: 0.1143 - accuracy: 0.9617\n",
      "Epoch 9/10\n",
      "38/38 [==============================] - 4s 97ms/step - loss: 0.1474 - accuracy: 0.9400\n",
      "Epoch 10/10\n",
      "38/38 [==============================] - 4s 97ms/step - loss: 0.0811 - accuracy: 0.9733\n"
     ]
    },
    {
     "data": {
      "text/plain": [
       "<tensorflow.python.keras.callbacks.History at 0x7f0baab1d850>"
      ]
     },
     "execution_count": 26,
     "metadata": {},
     "output_type": "execute_result"
    }
   ],
   "source": [
    "happy_model.fit(X_train, Y_train, epochs=10, batch_size=16)"
   ]
  },
  {
   "cell_type": "markdown",
   "metadata": {},
   "source": [
    "After that completes, just use `.evaluate()` to evaluate against your test set. This function will print the value of the loss function and the performance metrics specified during the compilation of the model. In this case, the `binary_crossentropy` and the `accuracy` respectively."
   ]
  },
  {
   "cell_type": "code",
   "execution_count": 27,
   "metadata": {},
   "outputs": [
    {
     "name": "stdout",
     "output_type": "stream",
     "text": [
      "5/5 [==============================] - 0s 22ms/step - loss: 0.1416 - accuracy: 0.9533\n"
     ]
    },
    {
     "data": {
      "text/plain": [
       "[0.1415768712759018, 0.95333331823349]"
      ]
     },
     "execution_count": 27,
     "metadata": {},
     "output_type": "execute_result"
    }
   ],
   "source": [
    "happy_model.evaluate(X_test, Y_test)"
   ]
  },
  {
   "cell_type": "markdown",
   "metadata": {},
   "source": [
    "Easy, right? But what if you need to build a model with shared layers, branches, or multiple inputs and outputs? This is where Sequential, with its beautifully simple yet limited functionality, won't be able to help you. \n",
    "\n",
    "Next up: Enter the Functional API, your slightly more complex, highly flexible friend.  "
   ]
  },
  {
   "cell_type": "markdown",
   "metadata": {},
   "source": [
    "<a name='4'></a>\n",
    "## 4 - The Functional API"
   ]
  },
  {
   "cell_type": "markdown",
   "metadata": {},
   "source": [
    "Welcome to the second half of the assignment, where you'll use Keras' flexible [Functional API](https://www.tensorflow.org/guide/keras/functional) to build a ConvNet that can differentiate between 6 sign language digits. \n",
    "\n",
    "The Functional API can handle models with non-linear topology, shared layers, as well as layers with multiple inputs or outputs. Imagine that, where the Sequential API requires the model to move in a linear fashion through its layers, the Functional API allows much more flexibility. Where Sequential is a straight line, a Functional model is a graph, where the nodes of the layers can connect in many more ways than one. \n",
    "\n",
    "In the visual example below, the one possible direction of the movement Sequential model is shown in contrast to a skip connection, which is just one of the many ways a Functional model can be constructed. A skip connection, as you might have guessed, skips some layer in the network and feeds the output to a later layer in the network. Don't worry, you'll be spending more time with skip connections very soon! "
   ]
  },
  {
   "cell_type": "markdown",
   "metadata": {},
   "source": [
    "<img src=\"images/seq_vs_func.png\" style=\"width:350px;height:200px;\">"
   ]
  },
  {
   "cell_type": "markdown",
   "metadata": {},
   "source": [
    "<a name='4-1'></a>\n",
    "### 4.1 - Load the SIGNS Dataset\n",
    "\n",
    "As a reminder, the SIGNS dataset is a collection of 6 signs representing numbers from 0 to 5."
   ]
  },
  {
   "cell_type": "code",
   "execution_count": 40,
   "metadata": {},
   "outputs": [],
   "source": [
    "# Loading the data (signs)\n",
    "X_train_orig, Y_train_orig, X_test_orig, Y_test_orig, classes = load_signs_dataset()"
   ]
  },
  {
   "cell_type": "markdown",
   "metadata": {},
   "source": [
    "<img src=\"images/SIGNS.png\" style=\"width:800px;height:300px;\">\n",
    "\n",
    "The next cell will show you an example of a labelled image in the dataset. Feel free to change the value of `index` below and re-run to see different examples. "
   ]
  },
  {
   "cell_type": "code",
   "execution_count": 41,
   "metadata": {},
   "outputs": [
    {
     "name": "stdout",
     "output_type": "stream",
     "text": [
      "y = 4\n"
     ]
    },
    {
     "data": {
      "image/png": "[encoded data removed]",
      "text/plain": [
       "<Figure size 432x288 with 1 Axes>"
      ]
     },
     "metadata": {
      "needs_background": "light"
     },
     "output_type": "display_data"
    }
   ],
   "source": [
    "# Example of an image from the dataset\n",
    "index = 9\n",
    "plt.imshow(X_train_orig[index])\n",
    "print (\"y = \" + str(np.squeeze(Y_train_orig[:, index])))"
   ]
  },
  {
   "cell_type": "markdown",
   "metadata": {},
   "source": [
    "<a name='4-2'></a>\n",
    "### 4.2 - Split the Data into Train/Test Sets\n",
    "\n",
    "In Course 2, you built a fully-connected network for this dataset. But since this is an image dataset, it is more natural to apply a ConvNet to it.\n",
    "\n",
    "To get started, let's examine the shapes of your data. "
   ]
  },
  {
   "cell_type": "code",
   "execution_count": 42,
   "metadata": {},
   "outputs": [
    {
     "name": "stdout",
     "output_type": "stream",
     "text": [
      "number of training examples = 1080\n",
      "number of test examples = 120\n",
      "X_train shape: (1080, 64, 64, 3)\n",
      "Y_train shape: (1080, 6)\n",
      "X_test shape: (120, 64, 64, 3)\n",
      "Y_test shape: (120, 6)\n"
     ]
    }
   ],
   "source": [
    "X_train = X_train_orig/255.\n",
    "X_test = X_test_orig/255.\n",
    "Y_train = convert_to_one_hot(Y_train_orig, 6).T\n",
    "Y_test = convert_to_one_hot(Y_test_orig, 6).T\n",
    "print (\"number of training examples = \" + str(X_train.shape[0]))\n",
    "print (\"number of test examples = \" + str(X_test.shape[0]))\n",
    "print (\"X_train shape: \" + str(X_train.shape))\n",
    "print (\"Y_train shape: \" + str(Y_train.shape))\n",
    "print (\"X_test shape: \" + str(X_test.shape))\n",
    "print (\"Y_test shape: \" + str(Y_test.shape))"
   ]
  },
  {
   "cell_type": "markdown",
   "metadata": {},
   "source": [
    "<a name='4-3'></a>\n",
    "### 4.3 - Forward Propagation\n",
    "\n",
    "In TensorFlow, there are built-in functions that implement the convolution steps for you. By now, you should be familiar with how TensorFlow builds computational graphs. In the [Functional API](https://www.tensorflow.org/guide/keras/functional), you create a graph of layers. This is what allows such great flexibility.\n",
    "\n",
    "However, the following model could also be defined using the Sequential API since the information flow is on a single line. But don't deviate. What we want you to learn is to use the functional API.\n",
    "\n",
    "Begin building your graph of layers by creating an input node that functions as a callable object:\n",
    "\n",
    "- **input_img = tf.keras.Input(shape=input_shape):** \n",
    "\n",
    "Then, create a new node in the graph of layers by calling a layer on the `input_img` object: \n",
    "\n",
    "- **tf.keras.layers.Conv2D(filters= ... , kernel_size= ... , padding='same')(input_img):** Read the full documentation on [Conv2D](https://www.tensorflow.org/api_docs/python/tf/keras/layers/Conv2D).\n",
    "\n",
    "- **tf.keras.layers.MaxPool2D(pool_size=(f, f), strides=(s, s), padding='same'):** `MaxPool2D()` downsamples your input using a window of size (f, f) and strides of size (s, s) to carry out max pooling over each window.  For max pooling, you usually operate on a single example at a time and a single channel at a time. Read the full documentation on [MaxPool2D](https://www.tensorflow.org/api_docs/python/tf/keras/layers/MaxPool2D).\n",
    "\n",
    "- **tf.keras.layers.ReLU():** computes the elementwise ReLU of Z (which can be any shape). You can read the full documentation on [ReLU](https://www.tensorflow.org/api_docs/python/tf/keras/layers/ReLU).\n",
    "\n",
    "- **tf.keras.layers.Flatten()**: given a tensor \"P\", this function takes each training (or test) example in the batch and flattens it into a 1D vector.  \n",
    "\n",
    "    * If a tensor P has the shape (batch_size,h,w,c), it returns a flattened tensor with shape (batch_size, k), where $k=h \\times w \\times c$.  \"k\" equals the product of all the dimension sizes other than the first dimension.\n",
    "    \n",
    "    * For example, given a tensor with dimensions [100, 2, 3, 4], it flattens the tensor to be of shape [100, 24], where 24 = 2 * 3 * 4.  You can read the full documentation on [Flatten](https://www.tensorflow.org/api_docs/python/tf/keras/layers/Flatten).\n",
    "\n",
    "- **tf.keras.layers.Dense(units= ... , activation='softmax')(F):** given the flattened input F, it returns the output computed using a fully connected layer. You can read the full documentation on [Dense](https://www.tensorflow.org/api_docs/python/tf/keras/layers/Dense).\n",
    "\n",
    "In the last function above (`tf.keras.layers.Dense()`), the fully connected layer automatically initializes weights in the graph and keeps on training them as you train the model. Hence, you did not need to initialize those weights when initializing the parameters.\n",
    "\n",
    "Lastly, before creating the model, you'll need to define the output using the last of the function's compositions (in this example, a Dense layer): \n",
    "\n",
    "- **outputs = tf.keras.layers.Dense(units=6, activation='softmax')(F)**\n",
    "\n",
    "\n",
    "#### Window, kernel, filter, pool\n",
    "\n",
    "The words \"kernel\" and \"filter\" are used to refer to the same thing. The word \"filter\" accounts for the amount of \"kernels\" that will be used in a single convolution layer. \"Pool\" is the name of the operation that takes the max or average value of the kernels. \n",
    "\n",
    "This is why the parameter `pool_size` refers to `kernel_size`, and you use `(f,f)` to refer to the filter size. \n",
    "\n",
    "Pool size and kernel size refer to the same thing in different objects - They refer to the shape of the window where the operation takes place. "
   ]
  },
  {
   "cell_type": "markdown",
   "metadata": {},
   "source": [
    "<a name='ex-2'></a>\n",
    "### Exercise 2 - convolutional_model\n",
    "\n",
    "Implement the `convolutional_model` function below to build the following model: `CONV2D -> RELU -> MAXPOOL -> CONV2D -> RELU -> MAXPOOL -> FLATTEN -> DENSE`. Use the functions above! \n",
    "\n",
    "Also, plug in the following parameters for all the steps:\n",
    "\n",
    " - [Conv2D](https://www.tensorflow.org/api_docs/python/tf/keras/layers/Conv2D): Use 8 4 by 4 filters, stride 1, padding is \"SAME\"\n",
    " - [ReLU](https://www.tensorflow.org/api_docs/python/tf/keras/layers/ReLU)\n",
    " - [MaxPool2D](https://www.tensorflow.org/api_docs/python/tf/keras/layers/MaxPool2D): Use an 8 by 8 filter size and an 8 by 8 stride, padding is \"SAME\"\n",
    " - **Conv2D**: Use 16 2 by 2 filters, stride 1, padding is \"SAME\"\n",
    " - **ReLU**\n",
    " - **MaxPool2D**: Use a 4 by 4 filter size and a 4 by 4 stride, padding is \"SAME\"\n",
    " - [Flatten](https://www.tensorflow.org/api_docs/python/tf/keras/layers/Flatten) the previous output.\n",
    " - Fully-connected ([Dense](https://www.tensorflow.org/api_docs/python/tf/keras/layers/Dense)) layer: Apply a fully connected layer with 6 neurons and a softmax activation. "
   ]
  },
  {
   "cell_type": "code",
   "execution_count": 43,
   "metadata": {
    "deletable": false,
    "nbgrader": {
     "cell_type": "code",
     "checksum": "f58643806aa8380c96225fc8b4c5e7aa",
     "grade": false,
     "grade_id": "cell-dac51744a9e03f51",
     "locked": false,
     "schema_version": 3,
     "solution": true,
     "task": false
    }
   },
   "outputs": [],
   "source": [
    "# GRADED FUNCTION: convolutional_model\n",
    "\n",
    "def convolutional_model(input_shape):\n",
    "    \"\"\"\n",
    "    Implements the forward propagation for the model:\n",
    "    CONV2D -> RELU -> MAXPOOL -> CONV2D -> RELU -> MAXPOOL -> FLATTEN -> DENSE\n",
    "    \n",
    "    Note that for simplicity and grading purposes, you'll hard-code some values\n",
    "    such as the stride and kernel (filter) sizes. \n",
    "    Normally, functions should take these values as function parameters.\n",
    "    \n",
    "    Arguments:\n",
    "    input_img -- input dataset, of shape (input_shape)\n",
    "\n",
    "    Returns:\n",
    "    model -- TF Keras model (object containing the information for the entire training process) \n",
    "    \"\"\"\n",
    "\n",
    "    input_img = tf.keras.Input(shape=input_shape)\n",
    "    ## CONV2D: 8 filters 4x4, stride of 1, padding 'SAME'\n",
    "    # Z1 = None\n",
    "    ## RELU\n",
    "    # A1 = None\n",
    "    ## MAXPOOL: window 8x8, stride 8, padding 'SAME'\n",
    "    # P1 = None\n",
    "    ## CONV2D: 16 filters 2x2, stride 1, padding 'SAME'\n",
    "    # Z2 = None\n",
    "    ## RELU\n",
    "    # A2 = None\n",
    "    ## MAXPOOL: window 4x4, stride 4, padding 'SAME'\n",
    "    # P2 = None\n",
    "    ## FLATTEN\n",
    "    # F = None\n",
    "    ## Dense layer\n",
    "    ## 6 neurons in output layer. Hint: one of the arguments should be \"activation='softmax'\" \n",
    "    # outputs = None\n",
    "    # YOUR CODE STARTS HERE\n",
    "    \n",
    "    Z1=tf.keras.layers.Conv2D(filters=8, kernel_size=4, strides=1, padding='SAME', input_shape = input_shape)(input_img)\n",
    "    \n",
    "    A1=tf.keras.layers.ReLU()(Z1)\n",
    "    \n",
    "    P1=tf.keras.layers.MaxPool2D(pool_size=(8,8), strides=8, padding='SAME')(A1)\n",
    "    \n",
    "    Z2=tf.keras.layers.Conv2D(filters=16, kernel_size=2, strides=1, padding='SAME')(P1)\n",
    "    \n",
    "    A2=tf.keras.layers.ReLU()(Z2)\n",
    "    \n",
    "    P2=tf.keras.layers.MaxPool2D(pool_size=(4,4), strides=4, padding='SAME')(A2)\n",
    "    \n",
    "    F=tf.keras.layers.Flatten()(P2)\n",
    "    \n",
    "    outputs = tf.keras.layers.Dense(6, activation='softmax')(F)\n",
    "    \n",
    "    # YOUR CODE ENDS HERE\n",
    "    model = tf.keras.Model(inputs=input_img, outputs=outputs)\n",
    "    return model"
   ]
  },
  {
   "cell_type": "code",
   "execution_count": 44,
   "metadata": {
    "deletable": false,
    "editable": false,
    "nbgrader": {
     "cell_type": "code",
     "checksum": "483d626949930a0b0ef20997e7c6ba72",
     "grade": true,
     "grade_id": "cell-45d22e92042174c9",
     "locked": true,
     "points": 10,
     "schema_version": 3,
     "solution": false,
     "task": false
    }
   },
   "outputs": [
    {
     "name": "stdout",
     "output_type": "stream",
     "text": [
      "Model: \"functional_3\"\n",
      "_________________________________________________________________\n",
      "Layer (type)                 Output Shape              Param #   \n",
      "=================================================================\n",
      "input_6 (InputLayer)         [(None, 64, 64, 3)]       0         \n",
      "_________________________________________________________________\n",
      "conv2d_9 (Conv2D)            (None, 64, 64, 8)         392       \n",
      "_________________________________________________________________\n",
      "re_lu_9 (ReLU)               (None, 64, 64, 8)         0         \n",
      "_________________________________________________________________\n",
      "max_pooling2d_9 (MaxPooling2 (None, 8, 8, 8)           0         \n",
      "_________________________________________________________________\n",
      "conv2d_10 (Conv2D)           (None, 8, 8, 16)          528       \n",
      "_________________________________________________________________\n",
      "re_lu_10 (ReLU)              (None, 8, 8, 16)          0         \n",
      "_________________________________________________________________\n",
      "max_pooling2d_10 (MaxPooling (None, 2, 2, 16)          0         \n",
      "_________________________________________________________________\n",
      "flatten_6 (Flatten)          (None, 64)                0         \n",
      "_________________________________________________________________\n",
      "dense_4 (Dense)              (None, 6)                 390       \n",
      "=================================================================\n",
      "Total params: 1,310\n",
      "Trainable params: 1,310\n",
      "Non-trainable params: 0\n",
      "_________________________________________________________________\n",
      "\u001b[32mAll tests passed!\u001b[0m\n"
     ]
    }
   ],
   "source": [
    "conv_model = convolutional_model((64, 64, 3))\n",
    "conv_model.compile(optimizer='adam',\n",
    "                  loss='categorical_crossentropy',\n",
    "                  metrics=['accuracy'])\n",
    "conv_model.summary()\n",
    "    \n",
    "output = [['InputLayer', [(None, 64, 64, 3)], 0],\n",
    "        ['Conv2D', (None, 64, 64, 8), 392, 'same', 'linear', 'GlorotUniform'],\n",
    "        ['ReLU', (None, 64, 64, 8), 0],\n",
    "        ['MaxPooling2D', (None, 8, 8, 8), 0, (8, 8), (8, 8), 'same'],\n",
    "        ['Conv2D', (None, 8, 8, 16), 528, 'same', 'linear', 'GlorotUniform'],\n",
    "        ['ReLU', (None, 8, 8, 16), 0],\n",
    "        ['MaxPooling2D', (None, 2, 2, 16), 0, (4, 4), (4, 4), 'same'],\n",
    "        ['Flatten', (None, 64), 0],\n",
    "        ['Dense', (None, 6), 390, 'softmax']]\n",
    "    \n",
    "comparator(summary(conv_model), output)"
   ]
  },
  {
   "cell_type": "markdown",
   "metadata": {},
   "source": [
    "Both the Sequential and Functional APIs return a TF Keras model object. The only difference is how inputs are handled inside the object model! "
   ]
  },
  {
   "cell_type": "markdown",
   "metadata": {},
   "source": [
    "<a name='4-4'></a>\n",
    "### 4.4 - Train the Model"
   ]
  },
  {
   "cell_type": "code",
   "execution_count": 45,
   "metadata": {},
   "outputs": [
    {
     "name": "stdout",
     "output_type": "stream",
     "text": [
      "Epoch 1/100\n",
      "17/17 [==============================] - 2s 113ms/step - loss: 1.8002 - accuracy: 0.1954 - val_loss: 1.7893 - val_accuracy: 0.2250\n",
      "Epoch 2/100\n",
      "17/17 [==============================] - 2s 106ms/step - loss: 1.7889 - accuracy: 0.2343 - val_loss: 1.7858 - val_accuracy: 0.2583\n",
      "Epoch 3/100\n",
      "17/17 [==============================] - 2s 106ms/step - loss: 1.7860 - accuracy: 0.2806 - val_loss: 1.7841 - val_accuracy: 0.2667\n",
      "Epoch 4/100\n",
      "17/17 [==============================] - 2s 106ms/step - loss: 1.7828 - accuracy: 0.2509 - val_loss: 1.7821 - val_accuracy: 0.1917\n",
      "Epoch 5/100\n",
      "17/17 [==============================] - 2s 107ms/step - loss: 1.7767 - accuracy: 0.2898 - val_loss: 1.7769 - val_accuracy: 0.2750\n",
      "Epoch 6/100\n",
      "17/17 [==============================] - 2s 106ms/step - loss: 1.7694 - accuracy: 0.3278 - val_loss: 1.7710 - val_accuracy: 0.3000\n",
      "Epoch 7/100\n",
      "17/17 [==============================] - 2s 107ms/step - loss: 1.7592 - accuracy: 0.3667 - val_loss: 1.7612 - val_accuracy: 0.3000\n",
      "Epoch 8/100\n",
      "17/17 [==============================] - 2s 106ms/step - loss: 1.7463 - accuracy: 0.3704 - val_loss: 1.7493 - val_accuracy: 0.3833\n",
      "Epoch 9/100\n",
      "17/17 [==============================] - 2s 107ms/step - loss: 1.7304 - accuracy: 0.4000 - val_loss: 1.7335 - val_accuracy: 0.3500\n",
      "Epoch 10/100\n",
      "17/17 [==============================] - 2s 107ms/step - loss: 1.7068 - accuracy: 0.4296 - val_loss: 1.7135 - val_accuracy: 0.3667\n",
      "Epoch 11/100\n",
      "17/17 [==============================] - 2s 111ms/step - loss: 1.6793 - accuracy: 0.4389 - val_loss: 1.6911 - val_accuracy: 0.3667\n",
      "Epoch 12/100\n",
      "17/17 [==============================] - 2s 107ms/step - loss: 1.6473 - accuracy: 0.4407 - val_loss: 1.6647 - val_accuracy: 0.3500\n",
      "Epoch 13/100\n",
      "17/17 [==============================] - 2s 107ms/step - loss: 1.6114 - accuracy: 0.4463 - val_loss: 1.6350 - val_accuracy: 0.3417\n",
      "Epoch 14/100\n",
      "17/17 [==============================] - 2s 106ms/step - loss: 1.5704 - accuracy: 0.4537 - val_loss: 1.6049 - val_accuracy: 0.3333\n",
      "Epoch 15/100\n",
      "17/17 [==============================] - 2s 106ms/step - loss: 1.5273 - accuracy: 0.4704 - val_loss: 1.5720 - val_accuracy: 0.3250\n",
      "Epoch 16/100\n",
      "17/17 [==============================] - 2s 106ms/step - loss: 1.4833 - accuracy: 0.4861 - val_loss: 1.5306 - val_accuracy: 0.3917\n",
      "Epoch 17/100\n",
      "17/17 [==============================] - 2s 106ms/step - loss: 1.4397 - accuracy: 0.5019 - val_loss: 1.4921 - val_accuracy: 0.4833\n",
      "Epoch 18/100\n",
      "17/17 [==============================] - 2s 111ms/step - loss: 1.3985 - accuracy: 0.5120 - val_loss: 1.4555 - val_accuracy: 0.4750\n",
      "Epoch 19/100\n",
      "17/17 [==============================] - 2s 106ms/step - loss: 1.3594 - accuracy: 0.5185 - val_loss: 1.4195 - val_accuracy: 0.4833\n",
      "Epoch 20/100\n",
      "17/17 [==============================] - 2s 106ms/step - loss: 1.3215 - accuracy: 0.5250 - val_loss: 1.3829 - val_accuracy: 0.4750\n",
      "Epoch 21/100\n",
      "17/17 [==============================] - 2s 106ms/step - loss: 1.2870 - accuracy: 0.5380 - val_loss: 1.3466 - val_accuracy: 0.5000\n",
      "Epoch 22/100\n",
      "17/17 [==============================] - 2s 106ms/step - loss: 1.2525 - accuracy: 0.5481 - val_loss: 1.3124 - val_accuracy: 0.4833\n",
      "Epoch 23/100\n",
      "17/17 [==============================] - 2s 107ms/step - loss: 1.2202 - accuracy: 0.5630 - val_loss: 1.2791 - val_accuracy: 0.4750\n",
      "Epoch 24/100\n",
      "17/17 [==============================] - 2s 106ms/step - loss: 1.1890 - accuracy: 0.5796 - val_loss: 1.2473 - val_accuracy: 0.5083\n",
      "Epoch 25/100\n",
      "17/17 [==============================] - 2s 111ms/step - loss: 1.1599 - accuracy: 0.5861 - val_loss: 1.2180 - val_accuracy: 0.5000\n",
      "Epoch 26/100\n",
      "17/17 [==============================] - 2s 106ms/step - loss: 1.1322 - accuracy: 0.5991 - val_loss: 1.1882 - val_accuracy: 0.5083\n",
      "Epoch 27/100\n",
      "17/17 [==============================] - 2s 101ms/step - loss: 1.1062 - accuracy: 0.6083 - val_loss: 1.1612 - val_accuracy: 0.5500\n",
      "Epoch 28/100\n",
      "17/17 [==============================] - 2s 106ms/step - loss: 1.0815 - accuracy: 0.6185 - val_loss: 1.1353 - val_accuracy: 0.5667\n",
      "Epoch 29/100\n",
      "17/17 [==============================] - 2s 107ms/step - loss: 1.0578 - accuracy: 0.6324 - val_loss: 1.1100 - val_accuracy: 0.5750\n",
      "Epoch 30/100\n",
      "17/17 [==============================] - 2s 107ms/step - loss: 1.0359 - accuracy: 0.6398 - val_loss: 1.0863 - val_accuracy: 0.5500\n",
      "Epoch 31/100\n",
      "17/17 [==============================] - 2s 107ms/step - loss: 1.0156 - accuracy: 0.6491 - val_loss: 1.0651 - val_accuracy: 0.5500\n",
      "Epoch 32/100\n",
      "17/17 [==============================] - 2s 107ms/step - loss: 0.9958 - accuracy: 0.6528 - val_loss: 1.0441 - val_accuracy: 0.5667\n",
      "Epoch 33/100\n",
      "17/17 [==============================] - 2s 106ms/step - loss: 0.9778 - accuracy: 0.6639 - val_loss: 1.0245 - val_accuracy: 0.5750\n",
      "Epoch 34/100\n",
      "17/17 [==============================] - 2s 106ms/step - loss: 0.9596 - accuracy: 0.6796 - val_loss: 1.0059 - val_accuracy: 0.5750\n",
      "Epoch 35/100\n",
      "17/17 [==============================] - 2s 106ms/step - loss: 0.9432 - accuracy: 0.6861 - val_loss: 0.9894 - val_accuracy: 0.6167\n",
      "Epoch 36/100\n",
      "17/17 [==============================] - 2s 106ms/step - loss: 0.9269 - accuracy: 0.6917 - val_loss: 0.9731 - val_accuracy: 0.6250\n",
      "Epoch 37/100\n",
      "17/17 [==============================] - 2s 106ms/step - loss: 0.9114 - accuracy: 0.7000 - val_loss: 0.9592 - val_accuracy: 0.6333\n",
      "Epoch 38/100\n",
      "17/17 [==============================] - 2s 101ms/step - loss: 0.8961 - accuracy: 0.7019 - val_loss: 0.9456 - val_accuracy: 0.6333\n",
      "Epoch 39/100\n",
      "17/17 [==============================] - 2s 106ms/step - loss: 0.8817 - accuracy: 0.7046 - val_loss: 0.9342 - val_accuracy: 0.6417\n",
      "Epoch 40/100\n",
      "17/17 [==============================] - 2s 106ms/step - loss: 0.8668 - accuracy: 0.7102 - val_loss: 0.9224 - val_accuracy: 0.6333\n",
      "Epoch 41/100\n",
      "17/17 [==============================] - 2s 106ms/step - loss: 0.8530 - accuracy: 0.7139 - val_loss: 0.9115 - val_accuracy: 0.6500\n",
      "Epoch 42/100\n",
      "17/17 [==============================] - 2s 106ms/step - loss: 0.8388 - accuracy: 0.7204 - val_loss: 0.9005 - val_accuracy: 0.6500\n",
      "Epoch 43/100\n",
      "17/17 [==============================] - 2s 106ms/step - loss: 0.8258 - accuracy: 0.7287 - val_loss: 0.8902 - val_accuracy: 0.6500\n",
      "Epoch 44/100\n",
      "17/17 [==============================] - 2s 107ms/step - loss: 0.8134 - accuracy: 0.7315 - val_loss: 0.8802 - val_accuracy: 0.6417\n",
      "Epoch 45/100\n",
      "17/17 [==============================] - 2s 106ms/step - loss: 0.8016 - accuracy: 0.7343 - val_loss: 0.8705 - val_accuracy: 0.6417\n",
      "Epoch 46/100\n",
      "17/17 [==============================] - 2s 106ms/step - loss: 0.7896 - accuracy: 0.7389 - val_loss: 0.8618 - val_accuracy: 0.6417\n",
      "Epoch 47/100\n",
      "17/17 [==============================] - 2s 107ms/step - loss: 0.7781 - accuracy: 0.7454 - val_loss: 0.8535 - val_accuracy: 0.6417\n",
      "Epoch 48/100\n",
      "17/17 [==============================] - 2s 106ms/step - loss: 0.7676 - accuracy: 0.7528 - val_loss: 0.8475 - val_accuracy: 0.6417\n",
      "Epoch 49/100\n",
      "17/17 [==============================] - 2s 106ms/step - loss: 0.7576 - accuracy: 0.7611 - val_loss: 0.8411 - val_accuracy: 0.6500\n",
      "Epoch 50/100\n",
      "17/17 [==============================] - 2s 111ms/step - loss: 0.7467 - accuracy: 0.7639 - val_loss: 0.8338 - val_accuracy: 0.6667\n",
      "Epoch 51/100\n",
      "17/17 [==============================] - 2s 106ms/step - loss: 0.7370 - accuracy: 0.7694 - val_loss: 0.8283 - val_accuracy: 0.6667\n",
      "Epoch 52/100\n",
      "17/17 [==============================] - 2s 106ms/step - loss: 0.7281 - accuracy: 0.7750 - val_loss: 0.8224 - val_accuracy: 0.6667\n",
      "Epoch 53/100\n",
      "17/17 [==============================] - 2s 106ms/step - loss: 0.7189 - accuracy: 0.7759 - val_loss: 0.8171 - val_accuracy: 0.6750\n",
      "Epoch 54/100\n",
      "17/17 [==============================] - 2s 106ms/step - loss: 0.7101 - accuracy: 0.7815 - val_loss: 0.8115 - val_accuracy: 0.6750\n",
      "Epoch 55/100\n",
      "17/17 [==============================] - 2s 106ms/step - loss: 0.7009 - accuracy: 0.7815 - val_loss: 0.8068 - val_accuracy: 0.6750\n",
      "Epoch 56/100\n",
      "17/17 [==============================] - 2s 106ms/step - loss: 0.6924 - accuracy: 0.7843 - val_loss: 0.8023 - val_accuracy: 0.6750\n",
      "Epoch 57/100\n",
      "17/17 [==============================] - 2s 111ms/step - loss: 0.6849 - accuracy: 0.7880 - val_loss: 0.7980 - val_accuracy: 0.6833\n"
     ]
    },
    {
     "name": "stdout",
     "output_type": "stream",
     "text": [
      "Epoch 58/100\n",
      "17/17 [==============================] - 2s 106ms/step - loss: 0.6775 - accuracy: 0.7907 - val_loss: 0.7934 - val_accuracy: 0.6750\n",
      "Epoch 59/100\n",
      "17/17 [==============================] - 2s 106ms/step - loss: 0.6703 - accuracy: 0.7926 - val_loss: 0.7892 - val_accuracy: 0.6833\n",
      "Epoch 60/100\n",
      "17/17 [==============================] - 2s 106ms/step - loss: 0.6622 - accuracy: 0.7954 - val_loss: 0.7841 - val_accuracy: 0.6917\n",
      "Epoch 61/100\n",
      "17/17 [==============================] - 2s 106ms/step - loss: 0.6552 - accuracy: 0.8009 - val_loss: 0.7814 - val_accuracy: 0.6750\n",
      "Epoch 62/100\n",
      "17/17 [==============================] - 2s 106ms/step - loss: 0.6482 - accuracy: 0.8037 - val_loss: 0.7778 - val_accuracy: 0.7000\n",
      "Epoch 63/100\n",
      "17/17 [==============================] - 2s 106ms/step - loss: 0.6415 - accuracy: 0.8056 - val_loss: 0.7709 - val_accuracy: 0.6917\n",
      "Epoch 64/100\n",
      "17/17 [==============================] - 2s 106ms/step - loss: 0.6339 - accuracy: 0.8074 - val_loss: 0.7683 - val_accuracy: 0.7000\n",
      "Epoch 65/100\n",
      "17/17 [==============================] - 2s 106ms/step - loss: 0.6280 - accuracy: 0.8093 - val_loss: 0.7648 - val_accuracy: 0.7000\n",
      "Epoch 66/100\n",
      "17/17 [==============================] - 2s 107ms/step - loss: 0.6217 - accuracy: 0.8130 - val_loss: 0.7609 - val_accuracy: 0.7083\n",
      "Epoch 67/100\n",
      "17/17 [==============================] - 2s 106ms/step - loss: 0.6154 - accuracy: 0.8157 - val_loss: 0.7566 - val_accuracy: 0.7083\n",
      "Epoch 68/100\n",
      "17/17 [==============================] - 2s 106ms/step - loss: 0.6090 - accuracy: 0.8185 - val_loss: 0.7533 - val_accuracy: 0.7083\n",
      "Epoch 69/100\n",
      "17/17 [==============================] - 2s 106ms/step - loss: 0.6032 - accuracy: 0.8194 - val_loss: 0.7487 - val_accuracy: 0.7083\n",
      "Epoch 70/100\n",
      "17/17 [==============================] - 2s 106ms/step - loss: 0.5970 - accuracy: 0.8222 - val_loss: 0.7463 - val_accuracy: 0.7167\n",
      "Epoch 71/100\n",
      "17/17 [==============================] - 2s 106ms/step - loss: 0.5922 - accuracy: 0.8231 - val_loss: 0.7437 - val_accuracy: 0.7167\n",
      "Epoch 72/100\n",
      "17/17 [==============================] - 2s 106ms/step - loss: 0.5867 - accuracy: 0.8241 - val_loss: 0.7403 - val_accuracy: 0.7250\n",
      "Epoch 73/100\n",
      "17/17 [==============================] - 2s 106ms/step - loss: 0.5813 - accuracy: 0.8278 - val_loss: 0.7372 - val_accuracy: 0.7250\n",
      "Epoch 74/100\n",
      "17/17 [==============================] - 2s 106ms/step - loss: 0.5761 - accuracy: 0.8296 - val_loss: 0.7343 - val_accuracy: 0.7167\n",
      "Epoch 75/100\n",
      "17/17 [==============================] - 2s 106ms/step - loss: 0.5711 - accuracy: 0.8333 - val_loss: 0.7313 - val_accuracy: 0.7167\n",
      "Epoch 76/100\n",
      "17/17 [==============================] - 2s 106ms/step - loss: 0.5660 - accuracy: 0.8370 - val_loss: 0.7283 - val_accuracy: 0.7167\n",
      "Epoch 77/100\n",
      "17/17 [==============================] - 2s 106ms/step - loss: 0.5610 - accuracy: 0.8398 - val_loss: 0.7249 - val_accuracy: 0.7250\n",
      "Epoch 78/100\n",
      "17/17 [==============================] - 2s 111ms/step - loss: 0.5561 - accuracy: 0.8417 - val_loss: 0.7220 - val_accuracy: 0.7250\n",
      "Epoch 79/100\n",
      "17/17 [==============================] - 2s 102ms/step - loss: 0.5517 - accuracy: 0.8417 - val_loss: 0.7190 - val_accuracy: 0.7250\n",
      "Epoch 80/100\n",
      "17/17 [==============================] - 2s 106ms/step - loss: 0.5471 - accuracy: 0.8426 - val_loss: 0.7158 - val_accuracy: 0.7250\n",
      "Epoch 81/100\n",
      "17/17 [==============================] - 2s 106ms/step - loss: 0.5425 - accuracy: 0.8426 - val_loss: 0.7126 - val_accuracy: 0.7333\n",
      "Epoch 82/100\n",
      "17/17 [==============================] - 2s 106ms/step - loss: 0.5376 - accuracy: 0.8426 - val_loss: 0.7108 - val_accuracy: 0.7333\n",
      "Epoch 83/100\n",
      "17/17 [==============================] - 2s 106ms/step - loss: 0.5324 - accuracy: 0.8454 - val_loss: 0.7060 - val_accuracy: 0.7417\n",
      "Epoch 84/100\n",
      "17/17 [==============================] - 2s 102ms/step - loss: 0.5283 - accuracy: 0.8463 - val_loss: 0.7037 - val_accuracy: 0.7417\n",
      "Epoch 85/100\n",
      "17/17 [==============================] - 2s 106ms/step - loss: 0.5241 - accuracy: 0.8454 - val_loss: 0.7011 - val_accuracy: 0.7417\n",
      "Epoch 86/100\n",
      "17/17 [==============================] - 2s 106ms/step - loss: 0.5194 - accuracy: 0.8472 - val_loss: 0.7010 - val_accuracy: 0.7417\n",
      "Epoch 87/100\n",
      "17/17 [==============================] - 2s 111ms/step - loss: 0.5148 - accuracy: 0.8500 - val_loss: 0.6965 - val_accuracy: 0.7417\n",
      "Epoch 88/100\n",
      "17/17 [==============================] - 2s 106ms/step - loss: 0.5105 - accuracy: 0.8519 - val_loss: 0.6934 - val_accuracy: 0.7417\n",
      "Epoch 89/100\n",
      "17/17 [==============================] - 2s 106ms/step - loss: 0.5064 - accuracy: 0.8519 - val_loss: 0.6918 - val_accuracy: 0.7417\n",
      "Epoch 90/100\n",
      "17/17 [==============================] - 2s 106ms/step - loss: 0.5022 - accuracy: 0.8500 - val_loss: 0.6886 - val_accuracy: 0.7417\n",
      "Epoch 91/100\n",
      "17/17 [==============================] - 2s 111ms/step - loss: 0.4980 - accuracy: 0.8519 - val_loss: 0.6859 - val_accuracy: 0.7417\n",
      "Epoch 92/100\n",
      "17/17 [==============================] - 2s 107ms/step - loss: 0.4941 - accuracy: 0.8546 - val_loss: 0.6836 - val_accuracy: 0.7417\n",
      "Epoch 93/100\n",
      "17/17 [==============================] - 2s 106ms/step - loss: 0.4899 - accuracy: 0.8593 - val_loss: 0.6805 - val_accuracy: 0.7417\n",
      "Epoch 94/100\n",
      "17/17 [==============================] - 2s 106ms/step - loss: 0.4857 - accuracy: 0.8593 - val_loss: 0.6775 - val_accuracy: 0.7417\n",
      "Epoch 95/100\n",
      "17/17 [==============================] - 2s 111ms/step - loss: 0.4813 - accuracy: 0.8602 - val_loss: 0.6737 - val_accuracy: 0.7417\n",
      "Epoch 96/100\n",
      "17/17 [==============================] - 2s 106ms/step - loss: 0.4773 - accuracy: 0.8602 - val_loss: 0.6712 - val_accuracy: 0.7500\n",
      "Epoch 97/100\n",
      "17/17 [==============================] - 2s 107ms/step - loss: 0.4734 - accuracy: 0.8611 - val_loss: 0.6685 - val_accuracy: 0.7500\n",
      "Epoch 98/100\n",
      "17/17 [==============================] - 2s 106ms/step - loss: 0.4695 - accuracy: 0.8620 - val_loss: 0.6666 - val_accuracy: 0.7500\n",
      "Epoch 99/100\n",
      "17/17 [==============================] - 2s 106ms/step - loss: 0.4660 - accuracy: 0.8611 - val_loss: 0.6631 - val_accuracy: 0.7500\n",
      "Epoch 100/100\n",
      "17/17 [==============================] - 2s 107ms/step - loss: 0.4626 - accuracy: 0.8639 - val_loss: 0.6605 - val_accuracy: 0.7500\n"
     ]
    }
   ],
   "source": [
    "train_dataset = tf.data.Dataset.from_tensor_slices((X_train, Y_train)).batch(64)\n",
    "test_dataset = tf.data.Dataset.from_tensor_slices((X_test, Y_test)).batch(64)\n",
    "history = conv_model.fit(train_dataset, epochs=100, validation_data=test_dataset)"
   ]
  },
  {
   "cell_type": "markdown",
   "metadata": {},
   "source": [
    "<a name='5'></a>\n",
    "## 5 - History Object \n",
    "\n",
    "The history object is an output of the `.fit()` operation, and provides a record of all the loss and metric values in memory. It's stored as a dictionary that you can retrieve at `history.history`: "
   ]
  },
  {
   "cell_type": "code",
   "execution_count": 46,
   "metadata": {},
   "outputs": [
    {
     "data": {
      "text/plain": [
       "{'loss': [1.8002212047576904,\n",
       "  1.7888981103897095,\n",
       "  1.7860145568847656,\n",
       "  1.78279709815979,\n",
       "  1.7766927480697632,\n",
       "  1.7693854570388794,\n",
       "  1.759242296218872,\n",
       "  1.7463264465332031,\n",
       "  1.7304307222366333,\n",
       "  1.7068159580230713,\n",
       "  1.6792963743209839,\n",
       "  1.6472705602645874,\n",
       "  1.6113824844360352,\n",
       "  1.5703972578048706,\n",
       "  1.5273205041885376,\n",
       "  1.4833309650421143,\n",
       "  1.439701795578003,\n",
       "  1.3984826803207397,\n",
       "  1.3594021797180176,\n",
       "  1.3215417861938477,\n",
       "  1.2870349884033203,\n",
       "  1.2524855136871338,\n",
       "  1.2201756238937378,\n",
       "  1.1890008449554443,\n",
       "  1.1599117517471313,\n",
       "  1.1321642398834229,\n",
       "  1.1062158346176147,\n",
       "  1.0814909934997559,\n",
       "  1.0577508211135864,\n",
       "  1.035855770111084,\n",
       "  1.0156205892562866,\n",
       "  0.9958308339118958,\n",
       "  0.9778355360031128,\n",
       "  0.9595723748207092,\n",
       "  0.9432297348976135,\n",
       "  0.9268964529037476,\n",
       "  0.9113715887069702,\n",
       "  0.8960935473442078,\n",
       "  0.881717324256897,\n",
       "  0.8668097257614136,\n",
       "  0.8530187606811523,\n",
       "  0.8388218283653259,\n",
       "  0.8258389830589294,\n",
       "  0.8133884072303772,\n",
       "  0.8015546202659607,\n",
       "  0.7895736694335938,\n",
       "  0.7781018018722534,\n",
       "  0.7675564885139465,\n",
       "  0.7576263546943665,\n",
       "  0.7466853260993958,\n",
       "  0.7370462417602539,\n",
       "  0.7281274199485779,\n",
       "  0.7188736796379089,\n",
       "  0.7100812792778015,\n",
       "  0.7009475231170654,\n",
       "  0.6924403309822083,\n",
       "  0.684906542301178,\n",
       "  0.6774606108665466,\n",
       "  0.670281171798706,\n",
       "  0.6622493267059326,\n",
       "  0.6552196741104126,\n",
       "  0.6482325196266174,\n",
       "  0.6414827108383179,\n",
       "  0.6339225172996521,\n",
       "  0.62798672914505,\n",
       "  0.6217493414878845,\n",
       "  0.6154467463493347,\n",
       "  0.6090404987335205,\n",
       "  0.6032130122184753,\n",
       "  0.5970142483711243,\n",
       "  0.5922338366508484,\n",
       "  0.5866612195968628,\n",
       "  0.5813437104225159,\n",
       "  0.5761069059371948,\n",
       "  0.5711283087730408,\n",
       "  0.5660175085067749,\n",
       "  0.5609866380691528,\n",
       "  0.5561307668685913,\n",
       "  0.5516788363456726,\n",
       "  0.5471349954605103,\n",
       "  0.5425211787223816,\n",
       "  0.5376439690589905,\n",
       "  0.5324233770370483,\n",
       "  0.5283274054527283,\n",
       "  0.5240529179573059,\n",
       "  0.5193825364112854,\n",
       "  0.5148282051086426,\n",
       "  0.5104507207870483,\n",
       "  0.506367564201355,\n",
       "  0.5022019147872925,\n",
       "  0.4980079233646393,\n",
       "  0.49407801032066345,\n",
       "  0.48990869522094727,\n",
       "  0.48565012216567993,\n",
       "  0.48125866055488586,\n",
       "  0.47728022933006287,\n",
       "  0.4733665883541107,\n",
       "  0.46949875354766846,\n",
       "  0.46604791283607483,\n",
       "  0.462618887424469],\n",
       " 'accuracy': [0.1953703761100769,\n",
       "  0.23425926268100739,\n",
       "  0.2805555462837219,\n",
       "  0.2509259283542633,\n",
       "  0.2898148000240326,\n",
       "  0.32777777314186096,\n",
       "  0.36666667461395264,\n",
       "  0.37037035822868347,\n",
       "  0.4000000059604645,\n",
       "  0.4296296238899231,\n",
       "  0.43888887763023376,\n",
       "  0.4407407343387604,\n",
       "  0.4462963044643402,\n",
       "  0.45370370149612427,\n",
       "  0.4703703820705414,\n",
       "  0.4861111044883728,\n",
       "  0.5018518567085266,\n",
       "  0.5120370388031006,\n",
       "  0.5185185074806213,\n",
       "  0.5249999761581421,\n",
       "  0.5379629731178284,\n",
       "  0.5481481552124023,\n",
       "  0.5629629492759705,\n",
       "  0.5796296000480652,\n",
       "  0.5861111283302307,\n",
       "  0.5990740656852722,\n",
       "  0.6083333492279053,\n",
       "  0.6185185313224792,\n",
       "  0.6324074268341064,\n",
       "  0.6398147940635681,\n",
       "  0.6490740776062012,\n",
       "  0.6527777910232544,\n",
       "  0.6638888716697693,\n",
       "  0.6796296238899231,\n",
       "  0.6861110925674438,\n",
       "  0.6916666626930237,\n",
       "  0.699999988079071,\n",
       "  0.7018518447875977,\n",
       "  0.7046296000480652,\n",
       "  0.710185170173645,\n",
       "  0.7138888835906982,\n",
       "  0.720370352268219,\n",
       "  0.7287036776542664,\n",
       "  0.7314814925193787,\n",
       "  0.7342592477798462,\n",
       "  0.7388888597488403,\n",
       "  0.7453703880310059,\n",
       "  0.7527777552604675,\n",
       "  0.7611111402511597,\n",
       "  0.7638888955116272,\n",
       "  0.769444465637207,\n",
       "  0.7749999761581421,\n",
       "  0.7759259343147278,\n",
       "  0.7814815044403076,\n",
       "  0.7814815044403076,\n",
       "  0.7842592597007751,\n",
       "  0.7879629731178284,\n",
       "  0.7907407283782959,\n",
       "  0.7925925850868225,\n",
       "  0.7953703999519348,\n",
       "  0.8009259104728699,\n",
       "  0.8037037253379822,\n",
       "  0.8055555820465088,\n",
       "  0.8074073791503906,\n",
       "  0.8092592358589172,\n",
       "  0.8129629492759705,\n",
       "  0.8157407641410828,\n",
       "  0.8185185194015503,\n",
       "  0.8194444179534912,\n",
       "  0.8222222328186035,\n",
       "  0.8231481313705444,\n",
       "  0.8240740895271301,\n",
       "  0.8277778029441833,\n",
       "  0.8296296000480652,\n",
       "  0.8333333134651184,\n",
       "  0.8370370268821716,\n",
       "  0.8398148417472839,\n",
       "  0.8416666388511658,\n",
       "  0.8416666388511658,\n",
       "  0.8425925970077515,\n",
       "  0.8425925970077515,\n",
       "  0.8425925970077515,\n",
       "  0.845370352268219,\n",
       "  0.8462963104248047,\n",
       "  0.845370352268219,\n",
       "  0.8472222089767456,\n",
       "  0.8500000238418579,\n",
       "  0.8518518805503845,\n",
       "  0.8518518805503845,\n",
       "  0.8500000238418579,\n",
       "  0.8518518805503845,\n",
       "  0.854629635810852,\n",
       "  0.8592592477798462,\n",
       "  0.8592592477798462,\n",
       "  0.8601852059364319,\n",
       "  0.8601852059364319,\n",
       "  0.8611111044883728,\n",
       "  0.8620370626449585,\n",
       "  0.8611111044883728,\n",
       "  0.8638888597488403],\n",
       " 'val_loss': [1.7892764806747437,\n",
       "  1.7858242988586426,\n",
       "  1.7840685844421387,\n",
       "  1.7821171283721924,\n",
       "  1.7768800258636475,\n",
       "  1.7710158824920654,\n",
       "  1.7611842155456543,\n",
       "  1.7492533922195435,\n",
       "  1.7334678173065186,\n",
       "  1.713501214981079,\n",
       "  1.6910866498947144,\n",
       "  1.664663314819336,\n",
       "  1.6349818706512451,\n",
       "  1.6049247980117798,\n",
       "  1.5720441341400146,\n",
       "  1.5306111574172974,\n",
       "  1.4920978546142578,\n",
       "  1.4554734230041504,\n",
       "  1.4194684028625488,\n",
       "  1.3829208612442017,\n",
       "  1.3466036319732666,\n",
       "  1.3123689889907837,\n",
       "  1.2790693044662476,\n",
       "  1.247276782989502,\n",
       "  1.2179853916168213,\n",
       "  1.1882306337356567,\n",
       "  1.1611961126327515,\n",
       "  1.1352839469909668,\n",
       "  1.110045313835144,\n",
       "  1.0862808227539062,\n",
       "  1.0650768280029297,\n",
       "  1.0440609455108643,\n",
       "  1.0245153903961182,\n",
       "  1.005943775177002,\n",
       "  0.989411473274231,\n",
       "  0.9731207489967346,\n",
       "  0.9592210054397583,\n",
       "  0.9456241726875305,\n",
       "  0.9341620206832886,\n",
       "  0.9224092960357666,\n",
       "  0.911542534828186,\n",
       "  0.9005057215690613,\n",
       "  0.8902196288108826,\n",
       "  0.8801822662353516,\n",
       "  0.8705492615699768,\n",
       "  0.8618131279945374,\n",
       "  0.8535268306732178,\n",
       "  0.8475081324577332,\n",
       "  0.8411208391189575,\n",
       "  0.8337646722793579,\n",
       "  0.8283331990242004,\n",
       "  0.8223658204078674,\n",
       "  0.817071259021759,\n",
       "  0.8114877939224243,\n",
       "  0.8067916631698608,\n",
       "  0.8022518157958984,\n",
       "  0.7979822754859924,\n",
       "  0.7933798432350159,\n",
       "  0.7891857028007507,\n",
       "  0.7841269373893738,\n",
       "  0.7814093828201294,\n",
       "  0.7778467535972595,\n",
       "  0.7708572745323181,\n",
       "  0.7683199048042297,\n",
       "  0.7648237347602844,\n",
       "  0.7608534693717957,\n",
       "  0.7565564513206482,\n",
       "  0.7533040642738342,\n",
       "  0.7486948370933533,\n",
       "  0.7463327050209045,\n",
       "  0.7436569333076477,\n",
       "  0.7403241395950317,\n",
       "  0.7371810674667358,\n",
       "  0.7342991232872009,\n",
       "  0.7312962412834167,\n",
       "  0.7282826900482178,\n",
       "  0.724933922290802,\n",
       "  0.7219646573066711,\n",
       "  0.718976616859436,\n",
       "  0.7158169150352478,\n",
       "  0.7126235961914062,\n",
       "  0.7107780575752258,\n",
       "  0.7059897184371948,\n",
       "  0.7037193179130554,\n",
       "  0.7010914087295532,\n",
       "  0.7009783387184143,\n",
       "  0.6964861154556274,\n",
       "  0.6934144496917725,\n",
       "  0.6918113231658936,\n",
       "  0.6885727643966675,\n",
       "  0.6859182715415955,\n",
       "  0.6835816502571106,\n",
       "  0.6805405020713806,\n",
       "  0.6774876117706299,\n",
       "  0.6736707091331482,\n",
       "  0.6711879968643188,\n",
       "  0.6684776544570923,\n",
       "  0.6665526628494263,\n",
       "  0.6630976796150208,\n",
       "  0.660514771938324],\n",
       " 'val_accuracy': [0.22499999403953552,\n",
       "  0.25833332538604736,\n",
       "  0.2666666805744171,\n",
       "  0.19166666269302368,\n",
       "  0.2750000059604645,\n",
       "  0.30000001192092896,\n",
       "  0.30000001192092896,\n",
       "  0.38333332538604736,\n",
       "  0.3499999940395355,\n",
       "  0.36666667461395264,\n",
       "  0.36666667461395264,\n",
       "  0.3499999940395355,\n",
       "  0.34166666865348816,\n",
       "  0.3333333432674408,\n",
       "  0.32499998807907104,\n",
       "  0.3916666805744171,\n",
       "  0.4833333194255829,\n",
       "  0.4749999940395355,\n",
       "  0.4833333194255829,\n",
       "  0.4749999940395355,\n",
       "  0.5,\n",
       "  0.4833333194255829,\n",
       "  0.4749999940395355,\n",
       "  0.5083333253860474,\n",
       "  0.5,\n",
       "  0.5083333253860474,\n",
       "  0.550000011920929,\n",
       "  0.5666666626930237,\n",
       "  0.574999988079071,\n",
       "  0.550000011920929,\n",
       "  0.550000011920929,\n",
       "  0.5666666626930237,\n",
       "  0.574999988079071,\n",
       "  0.574999988079071,\n",
       "  0.6166666746139526,\n",
       "  0.625,\n",
       "  0.6333333253860474,\n",
       "  0.6333333253860474,\n",
       "  0.6416666507720947,\n",
       "  0.6333333253860474,\n",
       "  0.6499999761581421,\n",
       "  0.6499999761581421,\n",
       "  0.6499999761581421,\n",
       "  0.6416666507720947,\n",
       "  0.6416666507720947,\n",
       "  0.6416666507720947,\n",
       "  0.6416666507720947,\n",
       "  0.6416666507720947,\n",
       "  0.6499999761581421,\n",
       "  0.6666666865348816,\n",
       "  0.6666666865348816,\n",
       "  0.6666666865348816,\n",
       "  0.675000011920929,\n",
       "  0.675000011920929,\n",
       "  0.675000011920929,\n",
       "  0.675000011920929,\n",
       "  0.6833333373069763,\n",
       "  0.675000011920929,\n",
       "  0.6833333373069763,\n",
       "  0.6916666626930237,\n",
       "  0.675000011920929,\n",
       "  0.699999988079071,\n",
       "  0.6916666626930237,\n",
       "  0.699999988079071,\n",
       "  0.699999988079071,\n",
       "  0.7083333134651184,\n",
       "  0.7083333134651184,\n",
       "  0.7083333134651184,\n",
       "  0.7083333134651184,\n",
       "  0.7166666388511658,\n",
       "  0.7166666388511658,\n",
       "  0.7250000238418579,\n",
       "  0.7250000238418579,\n",
       "  0.7166666388511658,\n",
       "  0.7166666388511658,\n",
       "  0.7166666388511658,\n",
       "  0.7250000238418579,\n",
       "  0.7250000238418579,\n",
       "  0.7250000238418579,\n",
       "  0.7250000238418579,\n",
       "  0.7333333492279053,\n",
       "  0.7333333492279053,\n",
       "  0.7416666746139526,\n",
       "  0.7416666746139526,\n",
       "  0.7416666746139526,\n",
       "  0.7416666746139526,\n",
       "  0.7416666746139526,\n",
       "  0.7416666746139526,\n",
       "  0.7416666746139526,\n",
       "  0.7416666746139526,\n",
       "  0.7416666746139526,\n",
       "  0.7416666746139526,\n",
       "  0.7416666746139526,\n",
       "  0.7416666746139526,\n",
       "  0.7416666746139526,\n",
       "  0.75,\n",
       "  0.75,\n",
       "  0.75,\n",
       "  0.75,\n",
       "  0.75]}"
      ]
     },
     "execution_count": 46,
     "metadata": {},
     "output_type": "execute_result"
    }
   ],
   "source": [
    "history.history"
   ]
  },
  {
   "cell_type": "markdown",
   "metadata": {},
   "source": [
    "Now visualize the loss over time using `history.history`: "
   ]
  },
  {
   "cell_type": "code",
   "execution_count": 47,
   "metadata": {},
   "outputs": [
    {
     "data": {
      "text/plain": [
       "[Text(0, 0.5, 'Accuracy'), Text(0.5, 0, 'Epoch')]"
      ]
     },
     "execution_count": 47,
     "metadata": {},
     "output_type": "execute_result"
    },
    {
     "data": {
      "image/png": "[encoded data removed]",
      "text/plain": [
       "<Figure size 864x576 with 1 Axes>"
      ]
     },
     "metadata": {
      "needs_background": "light"
     },
     "output_type": "display_data"
    },
    {
     "data": {
      "image/png": "[encoded data removed]",
      "text/plain": [
       "<Figure size 864x576 with 1 Axes>"
      ]
     },
     "metadata": {
      "needs_background": "light"
     },
     "output_type": "display_data"
    }
   ],
   "source": [
    "# The history.history[\"loss\"] entry is a dictionary with as many values as epochs that the\n",
    "# model was trained on. \n",
    "df_loss_acc = pd.DataFrame(history.history)\n",
    "df_loss= df_loss_acc[['loss','val_loss']]\n",
    "df_loss.rename(columns={'loss':'train','val_loss':'validation'},inplace=True)\n",
    "df_acc= df_loss_acc[['accuracy','val_accuracy']]\n",
    "df_acc.rename(columns={'accuracy':'train','val_accuracy':'validation'},inplace=True)\n",
    "df_loss.plot(title='Model loss',figsize=(12,8)).set(xlabel='Epoch',ylabel='Loss')\n",
    "df_acc.plot(title='Model Accuracy',figsize=(12,8)).set(xlabel='Epoch',ylabel='Accuracy')"
   ]
  },
  {
   "cell_type": "markdown",
   "metadata": {},
   "source": [
    "**Congratulations**! You've finished the assignment and built two models: One that recognizes  smiles, and another that recognizes SIGN language with almost 80% accuracy on the test set. In addition to that, you now also understand the applications of two Keras APIs: Sequential and Functional. Nicely done! \n",
    "\n",
    "By now, you know a bit about how the Functional API works and may have glimpsed the possibilities. In your next assignment, you'll really get a feel for its power when you get the opportunity to build a very deep ConvNet, using ResNets! "
   ]
  },
  {
   "cell_type": "markdown",
   "metadata": {},
   "source": [
    "<a name='6'></a>\n",
    "## 6 - Bibliography\n",
    "\n",
    "You're always encouraged to read the official documentation. To that end, you can find the docs for the Sequential and Functional APIs here: \n",
    "\n",
    "https://www.tensorflow.org/guide/keras/sequential_model\n",
    "\n",
    "https://www.tensorflow.org/guide/keras/functional"
   ]
  },
  {
   "cell_type": "code",
   "execution_count": null,
   "metadata": {},
   "outputs": [],
   "source": []
  }
 ],
 "metadata": {
  "coursera": {
   "course_slug": "convolutional-neural-networks",
   "graded_item_id": "bwbJV",
   "launcher_item_id": "0TkXB"
  },
  "kernelspec": {
   "display_name": "Python 3",
   "language": "python",
   "name": "python3"
  },
  "language_info": {
   "codemirror_mode": {
    "name": "ipython",
    "version": 3
   },
   "file_extension": ".py",
   "mimetype": "text/x-python",
   "name": "python",
   "nbconvert_exporter": "python",
   "pygments_lexer": "ipython3",
   "version": "3.7.6"
  }
 },
 "nbformat": 4,
 "nbformat_minor": 2
}
