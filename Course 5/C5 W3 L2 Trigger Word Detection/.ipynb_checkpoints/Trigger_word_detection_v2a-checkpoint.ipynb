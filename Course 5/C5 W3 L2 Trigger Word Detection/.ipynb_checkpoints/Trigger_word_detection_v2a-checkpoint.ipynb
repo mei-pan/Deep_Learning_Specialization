version https://git-lfs.github.com/spec/v1
oid sha256:02f8d86514c14b442a6d2b4c36d4f3071c785e0e6d7c80ae091674349ea003bd
size 28030919
